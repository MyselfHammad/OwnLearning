{
 "cells": [
  {
   "cell_type": "code",
   "execution_count": 1,
   "metadata": {},
   "outputs": [
    {
     "name": "stdout",
     "output_type": "stream",
     "text": [
      "{0: 10, 1: 20}\n",
      "{0: 10, 1: 20, 2: 30}\n"
     ]
    }
   ],
   "source": [
    "d = {0:10, 1:20}\n",
    "print(d)\n",
    "d.update({2:30})\n",
    "print(d)"
   ]
  },
  {
   "cell_type": "code",
   "execution_count": 2,
   "metadata": {},
   "outputs": [
    {
     "name": "stdout",
     "output_type": "stream",
     "text": [
      "Sum : 600\n"
     ]
    }
   ],
   "source": [
    "def returnSum(myDict): \n",
    "      \n",
    "    sum = 0\n",
    "    for i in myDict: \n",
    "        sum = sum + myDict[i] \n",
    "      \n",
    "    return sum\n",
    "  \n",
    "    dict = {'a': 100, 'b':200, 'c':300} \n",
    "print(\"Sum :\", returnSum(dict)) "
   ]
  },
  {
   "cell_type": "code",
   "execution_count": 3,
   "metadata": {},
   "outputs": [
    {
     "name": "stdout",
     "output_type": "stream",
     "text": [
      "[2, 4, 10, 20, 5]\n"
     ]
    }
   ],
   "source": [
    "def Remove(duplicate): \n",
    "    final_list = [] \n",
    "    for num in duplicate: \n",
    "        if num not in final_list: \n",
    "            final_list.append(num) \n",
    "    return final_list \n",
    "      \n",
    "# Driver Code \n",
    "duplicate = [2, 4, 10, 20, 5, 2, 20, 4] \n",
    "print(Remove(duplicate))"
   ]
  },
  {
   "cell_type": "code",
   "execution_count": 4,
   "metadata": {},
   "outputs": [
    {
     "name": "stdout",
     "output_type": "stream",
     "text": [
      "Key is present in the dictionary\n",
      "Key is not present in the dictionary\n"
     ]
    }
   ],
   "source": [
    "d = {1: 10, 2: 20, 3: 30, 4: 40, 5: 50, 6: 60}\n",
    "def is_key_present(x):\n",
    "  if x in d:\n",
    "      print('Key is present in the dictionary')\n",
    "  else:\n",
    "      print('Key is not present in the dictionary')\n",
    "is_key_present(5)\n",
    "is_key_present(9)"
   ]
  },
  {
   "cell_type": "code",
   "execution_count": 9,
   "metadata": {},
   "outputs": [
    {
     "name": "stdout",
     "output_type": "stream",
     "text": [
      "Checking if 4 exists in list: \n",
      "Element Exists\n",
      "Checking if 6 exists in list: \n",
      "Element Exists\n"
     ]
    }
   ],
   "source": [
    "test_list = [ 1, 6, 3, 5, 3, 4 ] \n",
    "  \n",
    "print(\"Checking if 4 exists in list: \") \n",
    "   \n",
    "for i in test_list: \n",
    "    if(i == 4) : \n",
    "        print (\"Element Exists\") \n",
    "  \n",
    "print(\"Checking if 6 exists in list: \") \n",
    "  \n",
    "if (4 in test_list): \n",
    "    print (\"Element Exists\") "
   ]
  },
  {
   "cell_type": "code",
   "execution_count": 13,
   "metadata": {},
   "outputs": [
    {
     "name": "stdout",
     "output_type": "stream",
     "text": [
      "Operation to perform:\n",
      "1. Addition\n",
      "2. Subtraction\n",
      "3. Multiplication\n",
      "4. Division\n",
      "5. Raising a power to number\n",
      "Enter choice: 5\n",
      "Enter first number: 5\n",
      "Enter second number: 5\n",
      "5 ** 5 = 3125\n"
     ]
    }
   ],
   "source": [
    "def addition(x, y):\n",
    "   return x + y;\n",
    "def subtraction(x, y):\n",
    "   return x - y;\n",
    "def multiplication(x, y):\n",
    "   return x * y;\n",
    "def division(x, y):\n",
    "   return x / y;\n",
    "def raisePower(x, y):\n",
    "   return x ** y;\n",
    "\n",
    "print(\"Operation to perform:\");\n",
    "print(\"1. Addition\");\n",
    "print(\"2. Subtraction\");\n",
    "print(\"3. Multiplication\");\n",
    "print(\"4. Division\");\n",
    "print(\"5. Raising a power to number\");\n",
    "\n",
    "choice = input(\"Enter choice: \");\n",
    "\n",
    "num1 = int(input(\"Enter first number: \"));\n",
    "num2 = int(input(\"Enter second number: \"));\n",
    "if choice == '1':\n",
    "   print(num1, \"+\" ,num2, \"=\", addition(num1, num2));\n",
    "\n",
    "elif choice == '2':\n",
    "   print(num1, \"-\", num2, \"=\", subtraction(num1, num2));\n",
    "\n",
    "elif choice == '3':\n",
    "   print(num1, \"*\", num2, \"=\", multiplication(num1, num2));\n",
    "\n",
    "elif choice == '4':\n",
    "   print(num1, \"/\", num2, \"=\", division(num1, num2));\n",
    "\n",
    "elif choice == '5':\n",
    "   print(num1, \"**\", num2, \"=\", raisePower(num1, num2));\n",
    "\n",
    "else:\n",
    "   print(\"Please select a valid input.\");"
   ]
  },
  {
   "cell_type": "code",
   "execution_count": null,
   "metadata": {},
   "outputs": [],
   "source": []
  }
 ],
 "metadata": {
  "kernelspec": {
   "display_name": "Python 3",
   "language": "python",
   "name": "python3"
  },
  "language_info": {
   "codemirror_mode": {
    "name": "ipython",
    "version": 3
   },
   "file_extension": ".py",
   "mimetype": "text/x-python",
   "name": "python",
   "nbconvert_exporter": "python",
   "pygments_lexer": "ipython3",
   "version": "3.7.4"
  }
 },
 "nbformat": 4,
 "nbformat_minor": 2
}
